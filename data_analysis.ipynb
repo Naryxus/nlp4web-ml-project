{
 "cells": [
  {
   "cell_type": "code",
   "execution_count": 1,
   "metadata": {
    "collapsed": true
   },
   "outputs": [],
   "source": [
    "import numpy as np\n",
    "import matplotlib\n",
    "%matplotlib inline\n",
    "import matplotlib.pyplot as plt\n",
    "import pandas as pd\n",
    "import seaborn as sns\n",
    "import operator"
   ]
  },
  {
   "cell_type": "code",
   "execution_count": 16,
   "metadata": {
    "collapsed": true
   },
   "outputs": [],
   "source": [
    "#Returns dictionary: {'class': [('token', 'pos', 'chunk')]}\n",
    "def read_data(path):\n",
    "    output = {}\n",
    "    \n",
    "    with open(path) as file:\n",
    "        for line in file:\n",
    "            if line[0] == '\\n':\n",
    "            continue\n",
    "        if line[:3] == '-DO':\n",
    "            continue\n",
    "        \n",
    "        line_splitted = line.split(' ')\n",
    "        token = line_splitted[0]\n",
    "        pos = line_splitted[1]\n",
    "        chunk = line_splitted[2]\n",
    "        cls = line_splitted[3][:-1]\n",
    "        \n",
    "        if cls not in output:\n",
    "            output[cls] = []\n",
    "        output[cls].append((token, pos, chunk))\n",
    "    \n",
    "    return output\n",
    "\n",
    "#Returns dictionary: {'class': number}\n",
    "def number_in_classes(dictionary):\n",
    "    output = {}\n",
    "    \n",
    "    for key in dictionary:\n",
    "        output[key] = len(dictionary[key])\n",
    "    \n",
    "    return output\n",
    "\n",
    "def get_last_n_characters(token, n):\n",
    "    return token[:-n]"
   ]
  }
 ],
 "metadata": {
  "kernelspec": {
   "display_name": "Python 3",
   "language": "python",
   "name": "python3"
  },
  "language_info": {
   "codemirror_mode": {
    "name": "ipython",
    "version": 3
   },
   "file_extension": ".py",
   "mimetype": "text/x-python",
   "name": "python",
   "nbconvert_exporter": "python",
   "pygments_lexer": "ipython3",
   "version": "3.6.3"
  }
 },
 "nbformat": 4,
 "nbformat_minor": 2
}
